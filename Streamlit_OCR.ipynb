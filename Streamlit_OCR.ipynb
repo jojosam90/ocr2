{
  "nbformat": 4,
  "nbformat_minor": 0,
  "metadata": {
    "colab": {
      "provenance": [],
      "authorship_tag": "ABX9TyNEKMrkVzkK4sKaomI0F2/F",
      "include_colab_link": true
    },
    "kernelspec": {
      "name": "python3",
      "display_name": "Python 3"
    },
    "language_info": {
      "name": "python"
    },
    "accelerator": "GPU",
    "gpuClass": "standard"
  },
  "cells": [
    {
      "cell_type": "markdown",
      "metadata": {
        "id": "view-in-github",
        "colab_type": "text"
      },
      "source": [
        "<a href=\"https://colab.research.google.com/github/jojosam90/ocr2/blob/main/Streamlit_OCR.ipynb\" target=\"_parent\"><img src=\"https://colab.research.google.com/assets/colab-badge.svg\" alt=\"Open In Colab\"/></a>"
      ]
    },
    {
      "cell_type": "code",
      "execution_count": 3,
      "metadata": {
        "id": "4pgRJLhGxi4v"
      },
      "outputs": [],
      "source": [
        "#!pip install streamlit -q"
      ]
    },
    {
      "cell_type": "code",
      "source": [
        "#!pip install easyocr"
      ],
      "metadata": {
        "id": "Vh3wOPsqz0rV"
      },
      "execution_count": 15,
      "outputs": []
    },
    {
      "cell_type": "code",
      "source": [
        "%%writefile app.py\n",
        "import easyocr as ocr  #OCR\n",
        "import streamlit as st  #Web App\n",
        "from PIL import Image #Image Processing\n",
        "import numpy as np #Image Processing \n",
        "\n",
        "#title\n",
        "st.title(\"OCR\")\n",
        "\n",
        "st.markdown(\"\")\n",
        "\n",
        "#image uploader\n",
        "image = st.file_uploader(label = \"Upload your image here\",type=['png','jpg','jpeg'])\n",
        "\n",
        "@st.cache\n",
        "def load_model(): \n",
        "    reader = ocr.Reader(['en'],model_storage_directory='.')\n",
        "    return reader \n",
        "\n",
        "reader = load_model() #load model\n",
        "\n",
        "if image is not None:\n",
        "\n",
        "    input_image = Image.open(image) #read image\n",
        "    st.image(input_image) #display image\n",
        "\n",
        "    with st.spinner(\"Processing! \"):\n",
        "        \n",
        "        result = reader.readtext(np.array(input_image))\n",
        "\n",
        "        result_text = [] #empty list for results\n",
        "\n",
        "        for text in result:\n",
        "            result_text.append(text[1])\n",
        "\n",
        "        st.write(result_text)\n",
        "    #st.success(\"Here you go!\")\n",
        "else:\n",
        "    st.write(\"Upload an Image\")\n"
      ],
      "metadata": {
        "colab": {
          "base_uri": "https://localhost:8080/"
        },
        "id": "uFBEhKQ9xxSv",
        "outputId": "9f9dc627-1e51-4fa4-c791-026c09a5ec53"
      },
      "execution_count": 20,
      "outputs": [
        {
          "output_type": "stream",
          "name": "stdout",
          "text": [
            "Overwriting app.py\n"
          ]
        }
      ]
    },
    {
      "cell_type": "code",
      "source": [
        "#!pip install pyngrok"
      ],
      "metadata": {
        "id": "ReRKPip_yE8W"
      },
      "execution_count": 5,
      "outputs": []
    },
    {
      "cell_type": "code",
      "source": [
        "#from pyngrok import ngrok"
      ],
      "metadata": {
        "id": "MGf5F9kRyXsc"
      },
      "execution_count": 12,
      "outputs": []
    },
    {
      "cell_type": "code",
      "source": [
        "#!nohup streamlit run app.py\n",
        "#url = ngrok.connect(port='8501')\n",
        "#print(url)"
      ],
      "metadata": {
        "id": "FbY4EDsLyc6W"
      },
      "execution_count": 9,
      "outputs": []
    },
    {
      "cell_type": "code",
      "source": [
        "!streamlit run app.py & npx localtunnel --port 8501"
      ],
      "metadata": {
        "colab": {
          "base_uri": "https://localhost:8080/"
        },
        "id": "EFBoVNRNy6dw",
        "outputId": "f198ed60-7a2f-476d-924d-b56d7c9f90e4"
      },
      "execution_count": null,
      "outputs": [
        {
          "output_type": "stream",
          "name": "stdout",
          "text": [
            "[..................] | fetchMetadata: sill resolveWithNewModule localtunnel@2.0\u001b[0m\u001b[K\n",
            "Collecting usage statistics. To deactivate, set browser.gatherUsageStats to False.\n",
            "\u001b[0m\n",
            "\u001b[0m\n",
            "\u001b[34m\u001b[1m  You can now view your Streamlit app in your browser.\u001b[0m\n",
            "\u001b[0m\n",
            "\u001b[34m  Network URL: \u001b[0m\u001b[1mhttp://172.28.0.12:8501\u001b[0m\n",
            "\u001b[34m  External URL: \u001b[0m\u001b[1mhttp://35.196.105.85:8501\u001b[0m\n",
            "\u001b[0m\n",
            "\u001b[K\u001b[?25hnpx: installed 22 in 4.191s\n",
            "your url is: https://fluffy-readers-sip-35-196-105-85.loca.lt\n",
            "2022-12-10 11:42:16.959 CUDA not available - defaulting to CPU. Note: This module is much faster with a GPU.\n"
          ]
        }
      ]
    }
  ]
}