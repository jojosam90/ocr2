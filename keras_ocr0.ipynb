{
  "nbformat": 4,
  "nbformat_minor": 0,
  "metadata": {
    "colab": {
      "provenance": [],
      "authorship_tag": "ABX9TyNRmxpVdfLKI+mO/loVcAK5",
      "include_colab_link": true
    },
    "kernelspec": {
      "name": "python3",
      "display_name": "Python 3"
    },
    "language_info": {
      "name": "python"
    },
    "accelerator": "GPU",
    "gpuClass": "standard"
  },
  "cells": [
    {
      "cell_type": "markdown",
      "metadata": {
        "id": "view-in-github",
        "colab_type": "text"
      },
      "source": [
        "<a href=\"https://colab.research.google.com/github/jojosam90/ocr2/blob/main/keras_ocr0.ipynb\" target=\"_parent\"><img src=\"https://colab.research.google.com/assets/colab-badge.svg\" alt=\"Open In Colab\"/></a>"
      ]
    },
    {
      "cell_type": "code",
      "execution_count": 47,
      "metadata": {
        "id": "tdI_RlSl4THM"
      },
      "outputs": [],
      "source": [
        "# import keras\n",
        "# from keras.datasets import mnist\n",
        "# from keras.models import Sequential\n",
        "# from keras.layers import Dense, Dropout, Flatten, Conv2D, MaxPooling2D"
      ]
    },
    {
      "cell_type": "code",
      "source": [
        "# (x_train, y_train),(x_test, y_test) = mnist.load_data()\n",
        "\n",
        "# x_train = x_train.reshape(x_train.shape[0],28,28,1)\n",
        "# x_test = x_test.reshape(x_test.shape[0],28,28,1)\n",
        "# input_shape = (28,28,1)\n",
        "\n",
        "# x_train = x_train.astype('float32')\n",
        "# x_test = x_test.astype('float32')\n",
        "# x_train /= 255\n",
        "# x_test /= 255\n",
        "\n",
        "# x_train = keras.utils.to_categorical(y_train,10)\n",
        "# y_test = keras.utils.to_categorical(y_test,10)\n"
      ],
      "metadata": {
        "id": "pZA2ENIF4vE2"
      },
      "execution_count": 48,
      "outputs": []
    },
    {
      "cell_type": "code",
      "source": [
        "# model=Sequential()\n",
        "# model.add(Conv2D(32,kernel_size=(3,3),activation='relu',input_shape=input_shape))\n",
        "# model.add(Conv2D(64,(3,3),activation='relu'))\n",
        "# model.add(MaxPooling2D(pool_size=(2,2)))\n",
        "# model.add(Dropout(0.25))\n",
        "# model.add(Flatten())\n",
        "# model.add(Dense(128,activation='relu'))\n",
        "# model.add(Dropout(0.5))\n",
        "# model.add(Dense(10,activation='softmax'))"
      ],
      "metadata": {
        "id": "cah7CRyW5cJd"
      },
      "execution_count": 49,
      "outputs": []
    },
    {
      "cell_type": "code",
      "source": [
        "# model.compile(loss=keras.losses.categorical_crossentropy,\n",
        "#               optimizer=keras.optimizers.Adadelta(),\n",
        "#               metrics=['accuracy'])"
      ],
      "metadata": {
        "id": "oHlK_HYC6lcP"
      },
      "execution_count": 50,
      "outputs": []
    },
    {
      "cell_type": "markdown",
      "source": [
        "Setup"
      ],
      "metadata": {
        "id": "XIRIUGIO9DbL"
      }
    },
    {
      "cell_type": "code",
      "source": [
        "import numpy as np\n",
        "from tensorflow import keras\n",
        "from tensorflow.keras import layers"
      ],
      "metadata": {
        "id": "7ASeg6uw8dIH"
      },
      "execution_count": 51,
      "outputs": []
    },
    {
      "cell_type": "markdown",
      "source": [
        "Prepare the data"
      ],
      "metadata": {
        "id": "u5HtwXAh9Gwz"
      }
    },
    {
      "cell_type": "code",
      "source": [
        "# Model / data parameters\n",
        "num_classes = 10\n",
        "input_shape = (28, 28, 1)\n",
        "\n",
        "# Load the data and split it between train and test sets\n",
        "(x_train, y_train), (x_test, y_test) = keras.datasets.mnist.load_data()\n",
        "\n",
        "# Scale images to the [0, 1] range\n",
        "x_train = x_train.astype(\"float32\") / 255\n",
        "x_test = x_test.astype(\"float32\") / 255\n",
        "# Make sure images have shape (28, 28, 1)\n",
        "x_train = np.expand_dims(x_train, -1)\n",
        "x_test = np.expand_dims(x_test, -1)\n",
        "print(\"x_train shape:\", x_train.shape)\n",
        "print(x_train.shape[0], \"train samples\")\n",
        "print(x_test.shape[0], \"test samples\")\n",
        "\n",
        "\n",
        "# convert class vectors to binary class matrices\n",
        "y_train = keras.utils.to_categorical(y_train, num_classes)\n",
        "y_test = keras.utils.to_categorical(y_test, num_classes)"
      ],
      "metadata": {
        "colab": {
          "base_uri": "https://localhost:8080/"
        },
        "id": "DbkSz-pK8fMH",
        "outputId": "04ac9bfc-11a4-4fc1-8886-2e68947d0acd"
      },
      "execution_count": 52,
      "outputs": [
        {
          "output_type": "stream",
          "name": "stdout",
          "text": [
            "x_train shape: (60000, 28, 28, 1)\n",
            "60000 train samples\n",
            "10000 test samples\n"
          ]
        }
      ]
    },
    {
      "cell_type": "markdown",
      "source": [
        "Build the model"
      ],
      "metadata": {
        "id": "lZ-KbszG9Jxb"
      }
    },
    {
      "cell_type": "code",
      "source": [
        "model = keras.Sequential(\n",
        "    [\n",
        "        keras.Input(shape=input_shape),\n",
        "        layers.Conv2D(32, kernel_size=(3, 3), activation=\"relu\"),\n",
        "        #layers.MaxPooling2D(pool_size=(2, 2)),\n",
        "        layers.Conv2D(64, kernel_size=(3, 3), activation=\"relu\"),\n",
        "        layers.MaxPooling2D(pool_size=(2, 2)),\n",
        "        layers.Dropout(0.25),\n",
        "        layers.Flatten(),\n",
        "        # layers.Dense(128,activation=\"relu\"),\n",
        "        layers.Dropout(0.5),\n",
        "        layers.Dense(num_classes, activation=\"softmax\"),\n",
        "    ]\n",
        ")\n",
        "\n",
        "model.summary()"
      ],
      "metadata": {
        "colab": {
          "base_uri": "https://localhost:8080/"
        },
        "id": "zq0BI5J78kEY",
        "outputId": "33613204-f351-46ef-8cf7-c907cae66c96"
      },
      "execution_count": 53,
      "outputs": [
        {
          "output_type": "stream",
          "name": "stdout",
          "text": [
            "Model: \"sequential_3\"\n",
            "_________________________________________________________________\n",
            " Layer (type)                Output Shape              Param #   \n",
            "=================================================================\n",
            " conv2d_6 (Conv2D)           (None, 26, 26, 32)        320       \n",
            "                                                                 \n",
            " conv2d_7 (Conv2D)           (None, 24, 24, 64)        18496     \n",
            "                                                                 \n",
            " max_pooling2d_3 (MaxPooling  (None, 12, 12, 64)       0         \n",
            " 2D)                                                             \n",
            "                                                                 \n",
            " dropout_6 (Dropout)         (None, 12, 12, 64)        0         \n",
            "                                                                 \n",
            " flatten_3 (Flatten)         (None, 9216)              0         \n",
            "                                                                 \n",
            " dropout_7 (Dropout)         (None, 9216)              0         \n",
            "                                                                 \n",
            " dense_6 (Dense)             (None, 10)                92170     \n",
            "                                                                 \n",
            "=================================================================\n",
            "Total params: 110,986\n",
            "Trainable params: 110,986\n",
            "Non-trainable params: 0\n",
            "_________________________________________________________________\n"
          ]
        }
      ]
    },
    {
      "cell_type": "markdown",
      "source": [
        "Train the model"
      ],
      "metadata": {
        "id": "Oq_Zaf259RaX"
      }
    },
    {
      "cell_type": "code",
      "source": [
        "batch_size = 128\n",
        "epochs = 12\n",
        "verbose=1\n",
        "\n",
        "#model.compile(loss=\"categorical_crossentropy\", optimizer=\"adam\", metrics=[\"accuracy\"])\n",
        "model.compile(loss=\"categorical_crossentropy\", optimizer=\"Adadelta\", metrics=[\"accuracy\"])\n",
        "\n",
        "model.fit(x_train, y_train, batch_size=batch_size, epochs=epochs,verbose=1, validation_split=0.1)"
      ],
      "metadata": {
        "colab": {
          "base_uri": "https://localhost:8080/"
        },
        "id": "qonJG8m69BQn",
        "outputId": "404ab039-6a19-4929-ee2a-b35abacc47fa"
      },
      "execution_count": 54,
      "outputs": [
        {
          "output_type": "stream",
          "name": "stdout",
          "text": [
            "Epoch 1/12\n",
            "422/422 [==============================] - 4s 9ms/step - loss: 2.3081 - accuracy: 0.0978 - val_loss: 2.2867 - val_accuracy: 0.1587\n",
            "Epoch 2/12\n",
            "422/422 [==============================] - 4s 9ms/step - loss: 2.2768 - accuracy: 0.1473 - val_loss: 2.2531 - val_accuracy: 0.2773\n",
            "Epoch 3/12\n",
            "422/422 [==============================] - 4s 9ms/step - loss: 2.2433 - accuracy: 0.2136 - val_loss: 2.2160 - val_accuracy: 0.4103\n",
            "Epoch 4/12\n",
            "422/422 [==============================] - 4s 9ms/step - loss: 2.2061 - accuracy: 0.2814 - val_loss: 2.1732 - val_accuracy: 0.5142\n",
            "Epoch 5/12\n",
            "422/422 [==============================] - 4s 9ms/step - loss: 2.1620 - accuracy: 0.3533 - val_loss: 2.1223 - val_accuracy: 0.6002\n",
            "Epoch 6/12\n",
            "422/422 [==============================] - 4s 9ms/step - loss: 2.1088 - accuracy: 0.4229 - val_loss: 2.0603 - val_accuracy: 0.6623\n",
            "Epoch 7/12\n",
            "422/422 [==============================] - 4s 9ms/step - loss: 2.0453 - accuracy: 0.4811 - val_loss: 1.9846 - val_accuracy: 0.6990\n",
            "Epoch 8/12\n",
            "422/422 [==============================] - 4s 9ms/step - loss: 1.9674 - accuracy: 0.5357 - val_loss: 1.8921 - val_accuracy: 0.7262\n",
            "Epoch 9/12\n",
            "422/422 [==============================] - 4s 9ms/step - loss: 1.8724 - accuracy: 0.5834 - val_loss: 1.7806 - val_accuracy: 0.7450\n",
            "Epoch 10/12\n",
            "422/422 [==============================] - 4s 9ms/step - loss: 1.7606 - accuracy: 0.6204 - val_loss: 1.6508 - val_accuracy: 0.7628\n",
            "Epoch 11/12\n",
            "422/422 [==============================] - 4s 9ms/step - loss: 1.6359 - accuracy: 0.6481 - val_loss: 1.5077 - val_accuracy: 0.7797\n",
            "Epoch 12/12\n",
            "422/422 [==============================] - 4s 9ms/step - loss: 1.5056 - accuracy: 0.6678 - val_loss: 1.3598 - val_accuracy: 0.7932\n"
          ]
        },
        {
          "output_type": "execute_result",
          "data": {
            "text/plain": [
              "<keras.callbacks.History at 0x7fc16ffceb50>"
            ]
          },
          "metadata": {},
          "execution_count": 54
        }
      ]
    },
    {
      "cell_type": "code",
      "source": [
        "score = model.evaluate(x_test, y_test, verbose=0)\n",
        "print(\"Test loss:\", score[0])\n",
        "print(\"Test accuracy:\", score[1])"
      ],
      "metadata": {
        "colab": {
          "base_uri": "https://localhost:8080/"
        },
        "id": "eDfND0Bl9knC",
        "outputId": "2d8590a8-71d1-4292-9cbd-55a721b5bc89"
      },
      "execution_count": 55,
      "outputs": [
        {
          "output_type": "stream",
          "name": "stdout",
          "text": [
            "Test loss: 1.382138729095459\n",
            "Test accuracy: 0.7620000243186951\n"
          ]
        }
      ]
    },
    {
      "cell_type": "code",
      "source": [
        "# import os\n",
        "# path = os.chdir(r\"/content/ocr/ocr1.jpg\")"
      ],
      "metadata": {
        "id": "fw-7s23E9rux"
      },
      "execution_count": 56,
      "outputs": []
    },
    {
      "cell_type": "code",
      "source": [
        "import cv2 as cv\n",
        "image = cv.imread(\"/content/ocr/8.jpg\",cv.IMREAD_GRAYSCALE)\n",
        "image = cv.resize(image,(28,28))\n",
        "image = image.astype('float32')\n",
        "image = image.reshape(1,28,28,1)\n",
        "image /= 255\n",
        "\n",
        "model.predict(image).argmax()"
      ],
      "metadata": {
        "colab": {
          "base_uri": "https://localhost:8080/"
        },
        "id": "eHOW6_Sg-Bek",
        "outputId": "346c3b69-4880-41ae-f741-82345a1a0a37"
      },
      "execution_count": 57,
      "outputs": [
        {
          "output_type": "stream",
          "name": "stdout",
          "text": [
            "1/1 [==============================] - 0s 51ms/step\n"
          ]
        },
        {
          "output_type": "execute_result",
          "data": {
            "text/plain": [
              "6"
            ]
          },
          "metadata": {},
          "execution_count": 57
        }
      ]
    }
  ]
}